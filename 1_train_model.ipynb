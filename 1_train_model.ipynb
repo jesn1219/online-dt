{
 "cells": [
  {
   "cell_type": "code",
   "execution_count": 1,
   "metadata": {},
   "outputs": [
    {
     "name": "stdout",
     "output_type": "stream",
     "text": [
      "{'seed': 10, 'env': 'PointMaze_UMaze-v3', 'K': 5, 'embed_dim': 512, 'n_layer': 4, 'n_head': 4, 'activation_function': 'relu', 'dropout': 0.1, 'eval_context_length': 5, 'ordering': 0, 'eval_rtg': 3600, 'num_eval_episodes': 1, 'init_temperature': 0.1, 'batch_size': 256, 'learning_rate': 0.0001, 'weight_decay': 0.0005, 'warmup_steps': 10000, 'max_pretrain_iters': 1, 'num_updates_per_pretrain_iter': 5000, 'max_online_iters': 1500, 'online_rtg': 7200, 'num_online_rollouts': 1, 'replay_size': 1000, 'num_updates_per_online_iter': 300, 'eval_interval': 10, 'device': 'cuda', 'log_to_tb': True, 'save_dir': './exp', 'exp_name': 'default', 'tags': 'model:01,minari,k20,s_range-2:2,manualnorm,datafull'}\n"
     ]
    },
    {
     "name": "stderr",
     "output_type": "stream",
     "text": [
      "/env/lib/python3.8/site-packages/tqdm/auto.py:21: TqdmWarning: IProgress not found. Please update jupyter and ipywidgets. See https://ipywidgets.readthedocs.io/en/stable/user_install.html\n",
      "  from .autonotebook import tqdm as notebook_tqdm\n",
      "/env/lib/python3.8/site-packages/glfw/__init__.py:912: GLFWError: (65544) b'X11: Failed to open display :11.0'\n",
      "  warnings.warn(message, GLFWError)\n",
      "pybullet build time: Nov 28 2023 23:51:11\n",
      "2024-01-03 08:10:24,913 - main - INFO - Starting logger\n",
      "INFO:main:Starting logger\n",
      "2024-01-03 08:10:24,915 - main - INFO - Starting experiment\n",
      "INFO:main:Starting experiment\n",
      "2024-01-03 08:10:24,917 - main - INFO - args: {'seed': 10, 'env': 'PointMaze_UMaze-v3', 'K': 5, 'embed_dim': 512, 'n_layer': 4, 'n_head': 4, 'activation_function': 'relu', 'dropout': 0.1, 'eval_context_length': 5, 'ordering': 0, 'eval_rtg': 3600, 'num_eval_episodes': 1, 'init_temperature': 0.1, 'batch_size': 256, 'learning_rate': 0.0001, 'weight_decay': 0.0005, 'warmup_steps': 10000, 'max_pretrain_iters': 1, 'num_updates_per_pretrain_iter': 5000, 'max_online_iters': 1500, 'online_rtg': 7200, 'num_online_rollouts': 1, 'replay_size': 1000, 'num_updates_per_online_iter': 300, 'eval_interval': 10, 'device': 'cuda', 'log_to_tb': True, 'save_dir': './exp', 'exp_name': 'default', 'tags': 'model:01,minari,k20,s_range-2:2,manualnorm,datafull'}\n",
      "INFO:main:args: {'seed': 10, 'env': 'PointMaze_UMaze-v3', 'K': 5, 'embed_dim': 512, 'n_layer': 4, 'n_head': 4, 'activation_function': 'relu', 'dropout': 0.1, 'eval_context_length': 5, 'ordering': 0, 'eval_rtg': 3600, 'num_eval_episodes': 1, 'init_temperature': 0.1, 'batch_size': 256, 'learning_rate': 0.0001, 'weight_decay': 0.0005, 'warmup_steps': 10000, 'max_pretrain_iters': 1, 'num_updates_per_pretrain_iter': 5000, 'max_online_iters': 1500, 'online_rtg': 7200, 'num_online_rollouts': 1, 'replay_size': 1000, 'num_updates_per_online_iter': 300, 'eval_interval': 10, 'device': 'cuda', 'log_to_tb': True, 'save_dir': './exp', 'exp_name': 'default', 'tags': 'model:01,minari,k20,s_range-2:2,manualnorm,datafull'}\n"
     ]
    },
    {
     "name": "stdout",
     "output_type": "stream",
     "text": [
      "minari env_name : PointMaze_UMaze-v3\n",
      "re-label observation. (achieved_goal, desired_goal) -> observation\n",
      "==================================================\n",
      "Starting new experiment: pointmaze-umaze-v1\n",
      "13289 trajectories, 999996 timesteps found\n",
      "Average return: 1.00, std: 0.02\n",
      "Max return: 1.00, min: 0.00\n",
      "Average length: 75.25, std: 45.52\n",
      "Max length: 193.00, min: 0.00\n",
      "==================================================\n",
      "checking tag : model:01\n",
      "checking tag : minari\n",
      "checking tag : k20\n",
      "checking tag : s_range-2:2\n",
      "tag value:  -2:2\n",
      "state_range : [-2.0, 2.0]\n",
      "jesnk: debug: state_mean:[ 4.10373228e-01 -3.40838055e-02  2.10062427e-04 -1.09099690e-02], state_std:[0.68823241 0.87918936 0.8588351  0.95174554]\n",
      "Experiment log path: ./exp/2024.01.03/081044-default\n",
      "\n",
      "\n",
      "Making Eval Env.....\n"
     ]
    },
    {
     "name": "stderr",
     "output_type": "stream",
     "text": [
      "/env/lib/python3.8/site-packages/tensorboard/compat/tensorflow_stub/dtypes.py:569: DeprecationWarning: `np.object` is a deprecated alias for the builtin `object`. To silence this warning, use `object` by itself. Doing this will not modify any behavior and is safe. \n",
      "Deprecated in NumPy 1.20; for more details and guidance: https://numpy.org/devdocs/release/1.20.0-notes.html#deprecations\n",
      "  (np.object, string),\n",
      "/env/lib/python3.8/site-packages/tensorboard/compat/tensorflow_stub/dtypes.py:570: DeprecationWarning: `np.bool` is a deprecated alias for the builtin `bool`. To silence this warning, use `bool` by itself. Doing this will not modify any behavior and is safe. If you specifically wanted the numpy scalar type, use `np.bool_` here.\n",
      "Deprecated in NumPy 1.20; for more details and guidance: https://numpy.org/devdocs/release/1.20.0-notes.html#deprecations\n",
      "  (np.bool, bool),\n",
      "/env/lib/python3.8/site-packages/tensorboard/util/tensor_util.py:109: DeprecationWarning: `np.object` is a deprecated alias for the builtin `object`. To silence this warning, use `object` by itself. Doing this will not modify any behavior and is safe. \n",
      "Deprecated in NumPy 1.20; for more details and guidance: https://numpy.org/devdocs/release/1.20.0-notes.html#deprecations\n",
      "  np.object: SlowAppendObjectArrayToTensorProto,\n",
      "/env/lib/python3.8/site-packages/tensorboard/util/tensor_util.py:110: DeprecationWarning: `np.bool` is a deprecated alias for the builtin `bool`. To silence this warning, use `bool` by itself. Doing this will not modify any behavior and is safe. If you specifically wanted the numpy scalar type, use `np.bool_` here.\n",
      "Deprecated in NumPy 1.20; for more details and guidance: https://numpy.org/devdocs/release/1.20.0-notes.html#deprecations\n",
      "  np.bool: SlowAppendBoolArrayToTensorProto,\n",
      "/env/lib/python3.8/site-packages/glfw/__init__.py:912: GLFWError: (65544) b'X11: Failed to open display :11.0'\n",
      "  warnings.warn(message, GLFWError)\n",
      "pybullet build time: Nov 28 2023 23:51:11\n",
      "2024-01-03 08:10:49,688 - main - INFO - Start pretraining, max_pretrain_iters : 1\n",
      "INFO:main:Start pretraining, max_pretrain_iters : 1\n",
      "2024-01-03 08:10:49,689 - main - INFO - pretrain_iter : 0\n",
      "INFO:main:pretrain_iter : 0\n"
     ]
    },
    {
     "name": "stdout",
     "output_type": "stream",
     "text": [
      "\n",
      "\n",
      "\n",
      "*** Pretrain ***\n",
      "traj_lens: [16 81 17 ... 46 70 98]\n",
      "traj len : 1\n",
      "traj : [[-0.7838499  -0.93156827 -1.11704266 -1.23004164]]\n"
     ]
    },
    {
     "ename": "AssertionError",
     "evalue": "",
     "output_type": "error",
     "traceback": [
      "\u001b[0;31m---------------------------------------------------------------------------\u001b[0m",
      "\u001b[0;31mAssertionError\u001b[0m                            Traceback (most recent call last)",
      "Cell \u001b[0;32mIn[1], line 51\u001b[0m\n\u001b[1;32m     49\u001b[0m utils\u001b[38;5;241m.\u001b[39mset_seed_everywhere(args[\u001b[38;5;124m'\u001b[39m\u001b[38;5;124mseed\u001b[39m\u001b[38;5;124m'\u001b[39m])\n\u001b[1;32m     50\u001b[0m experiment \u001b[38;5;241m=\u001b[39m Experiment(args)\n\u001b[0;32m---> 51\u001b[0m \u001b[43mexperiment\u001b[49m\u001b[43m(\u001b[49m\u001b[43m)\u001b[49m\n",
      "File \u001b[0;32m/research/online-dt/main.py:710\u001b[0m, in \u001b[0;36mExperiment.__call__\u001b[0;34m(self)\u001b[0m\n\u001b[1;32m    708\u001b[0m \u001b[38;5;28mself\u001b[39m\u001b[38;5;241m.\u001b[39mstart_time \u001b[38;5;241m=\u001b[39m time\u001b[38;5;241m.\u001b[39mtime()\n\u001b[1;32m    709\u001b[0m \u001b[38;5;28;01mif\u001b[39;00m \u001b[38;5;28mself\u001b[39m\u001b[38;5;241m.\u001b[39mvariant[\u001b[38;5;124m\"\u001b[39m\u001b[38;5;124mmax_pretrain_iters\u001b[39m\u001b[38;5;124m\"\u001b[39m]:\n\u001b[0;32m--> 710\u001b[0m     \u001b[38;5;28;43mself\u001b[39;49m\u001b[38;5;241;43m.\u001b[39;49m\u001b[43mpretrain\u001b[49m\u001b[43m(\u001b[49m\u001b[43meval_envs\u001b[49m\u001b[43m,\u001b[49m\u001b[43m \u001b[49m\u001b[43mloss_fn\u001b[49m\u001b[43m)\u001b[49m\n\u001b[1;32m    711\u001b[0m \u001b[38;5;66;03m# save model\u001b[39;00m\n\u001b[1;32m    712\u001b[0m \u001b[38;5;28mself\u001b[39m\u001b[38;5;241m.\u001b[39m_save_model(\n\u001b[1;32m    713\u001b[0m     path_prefix\u001b[38;5;241m=\u001b[39m\u001b[38;5;28mself\u001b[39m\u001b[38;5;241m.\u001b[39mlogger\u001b[38;5;241m.\u001b[39mlog_path,\n\u001b[1;32m    714\u001b[0m     is_pretrain_model\u001b[38;5;241m=\u001b[39m\u001b[38;5;28;01mTrue\u001b[39;00m,\n\u001b[1;32m    715\u001b[0m )\n",
      "File \u001b[0;32m/research/online-dt/main.py:457\u001b[0m, in \u001b[0;36mExperiment.pretrain\u001b[0;34m(self, eval_envs, loss_fn)\u001b[0m\n\u001b[1;32m    444\u001b[0m     dataloader \u001b[38;5;241m=\u001b[39m create_dataloader(\n\u001b[1;32m    445\u001b[0m         trajectories\u001b[38;5;241m=\u001b[39m\u001b[38;5;28mself\u001b[39m\u001b[38;5;241m.\u001b[39moffline_trajs,\n\u001b[1;32m    446\u001b[0m         num_iters\u001b[38;5;241m=\u001b[39m\u001b[38;5;28mself\u001b[39m\u001b[38;5;241m.\u001b[39mvariant[\u001b[38;5;124m\"\u001b[39m\u001b[38;5;124mnum_updates_per_pretrain_iter\u001b[39m\u001b[38;5;124m\"\u001b[39m],\n\u001b[0;32m   (...)\u001b[0m\n\u001b[1;32m    454\u001b[0m         action_range\u001b[38;5;241m=\u001b[39m\u001b[38;5;28mself\u001b[39m\u001b[38;5;241m.\u001b[39maction_range,\n\u001b[1;32m    455\u001b[0m     )\n\u001b[1;32m    456\u001b[0m \u001b[38;5;28;01melse\u001b[39;00m :\n\u001b[0;32m--> 457\u001b[0m     dataloader \u001b[38;5;241m=\u001b[39m \u001b[43mcreate_dataloader_01\u001b[49m\u001b[43m(\u001b[49m\n\u001b[1;32m    458\u001b[0m \u001b[43m        \u001b[49m\u001b[43mtrajectories\u001b[49m\u001b[38;5;241;43m=\u001b[39;49m\u001b[38;5;28;43mself\u001b[39;49m\u001b[38;5;241;43m.\u001b[39;49m\u001b[43moffline_trajs\u001b[49m\u001b[43m,\u001b[49m\n\u001b[1;32m    459\u001b[0m \u001b[43m        \u001b[49m\u001b[43mnum_iters\u001b[49m\u001b[38;5;241;43m=\u001b[39;49m\u001b[38;5;28;43mself\u001b[39;49m\u001b[38;5;241;43m.\u001b[39;49m\u001b[43mvariant\u001b[49m\u001b[43m[\u001b[49m\u001b[38;5;124;43m\"\u001b[39;49m\u001b[38;5;124;43mnum_updates_per_pretrain_iter\u001b[39;49m\u001b[38;5;124;43m\"\u001b[39;49m\u001b[43m]\u001b[49m\u001b[43m,\u001b[49m\n\u001b[1;32m    460\u001b[0m \u001b[43m        \u001b[49m\u001b[43mbatch_size\u001b[49m\u001b[38;5;241;43m=\u001b[39;49m\u001b[38;5;28;43mself\u001b[39;49m\u001b[38;5;241;43m.\u001b[39;49m\u001b[43mvariant\u001b[49m\u001b[43m[\u001b[49m\u001b[38;5;124;43m\"\u001b[39;49m\u001b[38;5;124;43mbatch_size\u001b[39;49m\u001b[38;5;124;43m\"\u001b[39;49m\u001b[43m]\u001b[49m\u001b[43m,\u001b[49m\n\u001b[1;32m    461\u001b[0m \u001b[43m        \u001b[49m\u001b[43mmax_len\u001b[49m\u001b[38;5;241;43m=\u001b[39;49m\u001b[38;5;28;43mself\u001b[39;49m\u001b[38;5;241;43m.\u001b[39;49m\u001b[43mvariant\u001b[49m\u001b[43m[\u001b[49m\u001b[38;5;124;43m\"\u001b[39;49m\u001b[38;5;124;43mK\u001b[39;49m\u001b[38;5;124;43m\"\u001b[39;49m\u001b[43m]\u001b[49m\u001b[43m,\u001b[49m\n\u001b[1;32m    462\u001b[0m \u001b[43m        \u001b[49m\u001b[43mstate_dim\u001b[49m\u001b[38;5;241;43m=\u001b[39;49m\u001b[38;5;28;43mself\u001b[39;49m\u001b[38;5;241;43m.\u001b[39;49m\u001b[43mstate_dim\u001b[49m\u001b[43m,\u001b[49m\n\u001b[1;32m    463\u001b[0m \u001b[43m        \u001b[49m\u001b[43mstate_mean\u001b[49m\u001b[38;5;241;43m=\u001b[39;49m\u001b[38;5;28;43mself\u001b[39;49m\u001b[38;5;241;43m.\u001b[39;49m\u001b[43mstate_mean\u001b[49m\u001b[43m,\u001b[49m\n\u001b[1;32m    464\u001b[0m \u001b[43m        \u001b[49m\u001b[43mstate_std\u001b[49m\u001b[38;5;241;43m=\u001b[39;49m\u001b[38;5;28;43mself\u001b[39;49m\u001b[38;5;241;43m.\u001b[39;49m\u001b[43mstate_std\u001b[49m\u001b[43m,\u001b[49m\n\u001b[1;32m    465\u001b[0m \u001b[43m        \u001b[49m\u001b[43mreward_scale\u001b[49m\u001b[38;5;241;43m=\u001b[39;49m\u001b[38;5;28;43mself\u001b[39;49m\u001b[38;5;241;43m.\u001b[39;49m\u001b[43mreward_scale\u001b[49m\u001b[43m,\u001b[49m\n\u001b[1;32m    466\u001b[0m \u001b[43m        \u001b[49m\u001b[43mstate_range\u001b[49m\u001b[38;5;241;43m=\u001b[39;49m\u001b[43m \u001b[49m\u001b[38;5;28;43mself\u001b[39;49m\u001b[38;5;241;43m.\u001b[39;49m\u001b[43mstate_range\u001b[49m\n\u001b[1;32m    467\u001b[0m \u001b[43m    \u001b[49m\u001b[43m)\u001b[49m\n\u001b[1;32m    469\u001b[0m \u001b[38;5;66;03m# len(dataloader)\u001b[39;00m\n\u001b[1;32m    470\u001b[0m jesnk_logger\u001b[38;5;241m.\u001b[39minfo(\u001b[38;5;124mf\u001b[39m\u001b[38;5;124m\"\u001b[39m\u001b[38;5;124mlen(dataloader) : \u001b[39m\u001b[38;5;132;01m{\u001b[39;00m\u001b[38;5;28mlen\u001b[39m(dataloader)\u001b[38;5;132;01m}\u001b[39;00m\u001b[38;5;124m\"\u001b[39m)\n",
      "File \u001b[0;32m/research/online-dt/data.py:269\u001b[0m, in \u001b[0;36mcreate_dataloader_01\u001b[0;34m(trajectories, num_iters, batch_size, max_len, state_dim, state_mean, state_std, reward_scale, state_range, num_workers)\u001b[0m\n\u001b[1;32m    255\u001b[0m \u001b[38;5;28;01mdef\u001b[39;00m \u001b[38;5;21mcreate_dataloader_01\u001b[39m(\n\u001b[1;32m    256\u001b[0m     trajectories,\n\u001b[1;32m    257\u001b[0m     num_iters,\n\u001b[0;32m   (...)\u001b[0m\n\u001b[1;32m    266\u001b[0m ):\n\u001b[1;32m    267\u001b[0m     \u001b[38;5;66;03m# total number of subt-rajectories you need to sample\u001b[39;00m\n\u001b[1;32m    268\u001b[0m     sample_size \u001b[38;5;241m=\u001b[39m batch_size \u001b[38;5;241m*\u001b[39m num_iters\n\u001b[0;32m--> 269\u001b[0m     sampling_ind \u001b[38;5;241m=\u001b[39m \u001b[43msample_trajs\u001b[49m\u001b[43m(\u001b[49m\u001b[43mtrajectories\u001b[49m\u001b[43m,\u001b[49m\u001b[43m \u001b[49m\u001b[43msample_size\u001b[49m\u001b[43m)\u001b[49m\n\u001b[1;32m    271\u001b[0m     transform \u001b[38;5;241m=\u001b[39m TransformSamplingSubTraj01(\n\u001b[1;32m    272\u001b[0m         max_len\u001b[38;5;241m=\u001b[39mmax_len,\n\u001b[1;32m    273\u001b[0m         state_dim\u001b[38;5;241m=\u001b[39mstate_dim,\n\u001b[0;32m   (...)\u001b[0m\n\u001b[1;32m    277\u001b[0m         state_range\u001b[38;5;241m=\u001b[39mstate_range,\n\u001b[1;32m    278\u001b[0m     )\n\u001b[1;32m    280\u001b[0m     subset \u001b[38;5;241m=\u001b[39m SubTrajectory(trajectories, sampling_ind\u001b[38;5;241m=\u001b[39msampling_ind, transform\u001b[38;5;241m=\u001b[39mtransform)\n",
      "File \u001b[0;32m/research/online-dt/data.py:305\u001b[0m, in \u001b[0;36msample_trajs\u001b[0;34m(trajectories, sample_size)\u001b[0m\n\u001b[1;32m    303\u001b[0m         \u001b[38;5;28mprint\u001b[39m(\u001b[38;5;124mf\u001b[39m\u001b[38;5;124m\"\u001b[39m\u001b[38;5;124mtraj len : \u001b[39m\u001b[38;5;132;01m{\u001b[39;00m\u001b[38;5;28mlen\u001b[39m(traj[\u001b[38;5;124m'\u001b[39m\u001b[38;5;124mobservations\u001b[39m\u001b[38;5;124m'\u001b[39m])\u001b[38;5;132;01m}\u001b[39;00m\u001b[38;5;124m\"\u001b[39m)\n\u001b[1;32m    304\u001b[0m         \u001b[38;5;28mprint\u001b[39m(\u001b[38;5;124mf\u001b[39m\u001b[38;5;124m\"\u001b[39m\u001b[38;5;124mtraj : \u001b[39m\u001b[38;5;132;01m{\u001b[39;00mtraj[\u001b[38;5;124m'\u001b[39m\u001b[38;5;124mobservations\u001b[39m\u001b[38;5;124m'\u001b[39m]\u001b[38;5;132;01m}\u001b[39;00m\u001b[38;5;124m\"\u001b[39m)\n\u001b[0;32m--> 305\u001b[0m         \u001b[38;5;28;01massert\u001b[39;00m \u001b[38;5;28;01mFalse\u001b[39;00m\n\u001b[1;32m    307\u001b[0m inds \u001b[38;5;241m=\u001b[39m np\u001b[38;5;241m.\u001b[39mrandom\u001b[38;5;241m.\u001b[39mchoice(\n\u001b[1;32m    308\u001b[0m     np\u001b[38;5;241m.\u001b[39marange(\u001b[38;5;28mlen\u001b[39m(trajectories)),\n\u001b[1;32m    309\u001b[0m     size\u001b[38;5;241m=\u001b[39msample_size,\n\u001b[1;32m    310\u001b[0m     replace\u001b[38;5;241m=\u001b[39m\u001b[38;5;28;01mTrue\u001b[39;00m,\n\u001b[1;32m    311\u001b[0m     p\u001b[38;5;241m=\u001b[39mp_sample,\n\u001b[1;32m    312\u001b[0m )\n\u001b[1;32m    313\u001b[0m \u001b[38;5;28;01mreturn\u001b[39;00m inds\n",
      "\u001b[0;31mAssertionError\u001b[0m: "
     ]
    }
   ],
   "source": [
    "# 명령줄 인수 형태의 리스트 생성\n",
    "args = {\n",
    "    \"seed\": 10,\n",
    "    \"env\": \"hopper-medium-v2\",\n",
    "    \"K\": 5,\n",
    "    \"embed_dim\": 512,\n",
    "    \"n_layer\": 4,\n",
    "    \"n_head\": 4,\n",
    "    \"activation_function\": \"relu\",\n",
    "    \"dropout\": 0.1,\n",
    "    \"eval_context_length\": 5,\n",
    "    \"ordering\": 0,\n",
    "    \"eval_rtg\": 3600,\n",
    "    \"num_eval_episodes\": 10,\n",
    "    \"init_temperature\": 0.1,\n",
    "    \"batch_size\": 256,\n",
    "    \"learning_rate\": 1e-4,\n",
    "    \"weight_decay\": 5e-4,\n",
    "    \"warmup_steps\": 10000,\n",
    "    \"max_pretrain_iters\": 1,\n",
    "    \"num_updates_per_pretrain_iter\": 5000,\n",
    "    \"max_online_iters\": 1500,\n",
    "    \"online_rtg\": 7200,\n",
    "    \"num_online_rollouts\": 1,\n",
    "    \"replay_size\": 1000,\n",
    "    \"num_updates_per_online_iter\": 300,\n",
    "    \"eval_interval\": 10,\n",
    "    \"device\": \"cuda\",\n",
    "    \"log_to_tb\": True,\n",
    "    \"save_dir\": \"./exp\",\n",
    "    \"exp_name\": \"default\",\n",
    "    \"tags\": \"model:01,minari\"\n",
    "}\n",
    "\n",
    "# main.py --env PointMaze_UMaze-v3 --tags model:01,minari,k20,s_range-2:2,manualnorm,datafull --K 5 --num_eval_episodes 1\n",
    "args['env'] = 'PointMaze_UMaze-v3'\n",
    "args['tags'] = 'model:01,minari,k20,s_range-2:2,manualnorm,datafull'\n",
    "args['K'] = 5\n",
    "args['num_eval_episodes'] = 1\n",
    "\n",
    "\n",
    "# 생성된 args 리스트 확인\n",
    "print(args)\n",
    "\n",
    "from main import Experiment\n",
    "import utils\n",
    "import warnings\n",
    "warnings.filterwarnings('ignore')\n",
    "utils.set_seed_everywhere(args['seed'])\n",
    "experiment = Experiment(args)\n",
    "experiment()\n",
    "\n"
   ]
  },
  {
   "cell_type": "code",
   "execution_count": null,
   "metadata": {},
   "outputs": [
    {
     "name": "stdout",
     "output_type": "stream",
     "text": [
      "dict_keys(['observations', 'actions', 'rewards', 'next_observations', 'terminals'])\n"
     ]
    },
    {
     "data": {
      "text/plain": [
       "(700, 29)"
      ]
     },
     "execution_count": 64,
     "metadata": {},
     "output_type": "execute_result"
    }
   ],
   "source": [
    "import pickle\n",
    "import numpy as np\n",
    "env_name = \"antmaze-umaze-v2\"\n",
    "dataset_path = f\"./data/{env_name}.pkl\"\n",
    "with open(dataset_path, \"rb\") as f:\n",
    "    trajectories = pickle.load(f)\n",
    "len(trajectories)\n",
    "print(trajectories[0].keys())\n",
    "trajectories[0]['observations'].shape"
   ]
  }
 ],
 "metadata": {
  "kernelspec": {
   "display_name": "env",
   "language": "python",
   "name": "python3"
  },
  "language_info": {
   "codemirror_mode": {
    "name": "ipython",
    "version": 3
   },
   "file_extension": ".py",
   "mimetype": "text/x-python",
   "name": "python",
   "nbconvert_exporter": "python",
   "pygments_lexer": "ipython3",
   "version": "3.8.18"
  }
 },
 "nbformat": 4,
 "nbformat_minor": 2
}
