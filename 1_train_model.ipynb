{
 "cells": [
  {
   "cell_type": "code",
   "execution_count": null,
   "metadata": {},
   "outputs": [],
   "source": [
    "# 명령줄 인수 형태의 리스트 생성\n",
    "args = {\n",
    "    \"seed\": 10,\n",
    "    \"env\": \"hopper-medium-v2\",\n",
    "    \"K\": 5,\n",
    "    \"embed_dim\": 512,\n",
    "    \"n_layer\": 4,\n",
    "    \"n_head\": 4,\n",
    "    \"activation_function\": \"relu\",\n",
    "    \"dropout\": 0.1,\n",
    "    \"eval_context_length\": 5,\n",
    "    \"ordering\": 0,\n",
    "    \"eval_rtg\": 3600,\n",
    "    \"num_eval_episodes\": 10,\n",
    "    \"init_temperature\": 0.1,\n",
    "    \"batch_size\": 256,\n",
    "    \"learning_rate\": 1e-4,\n",
    "    \"weight_decay\": 5e-4,\n",
    "    \"warmup_steps\": 10000,\n",
    "    \"max_pretrain_iters\": 1,\n",
    "    \"num_updates_per_pretrain_iter\": 5000,\n",
    "    \"max_online_iters\": 1500,\n",
    "    \"online_rtg\": 7200,\n",
    "    \"num_online_rollouts\": 1,\n",
    "    \"replay_size\": 1000,\n",
    "    \"num_updates_per_online_iter\": 300,\n",
    "    \"eval_interval\": 10,\n",
    "    \"device\": \"cuda\",\n",
    "    \"log_to_tb\": True,\n",
    "    \"save_dir\": \"./exp\",\n",
    "    \"exp_name\": \"default\",\n",
    "    \"tags\": \"model:01\"\n",
    "}\n",
    "\n",
    "\n",
    "# 생성된 args 리스트 확인\n",
    "print(args)\n",
    "\n",
    "from main import Experiment\n",
    "import utils\n",
    "import warnings\n",
    "warnings.filterwarnings('ignore')\n",
    "utils.set_seed_everywhere(args['seed'])\n",
    "experiment = Experiment(args)\n",
    "experiment()\n",
    "\n"
   ]
  },
  {
   "cell_type": "code",
   "execution_count": 64,
   "metadata": {},
   "outputs": [
    {
     "name": "stdout",
     "output_type": "stream",
     "text": [
      "dict_keys(['observations', 'actions', 'rewards', 'next_observations', 'terminals'])\n"
     ]
    },
    {
     "data": {
      "text/plain": [
       "(700, 29)"
      ]
     },
     "execution_count": 64,
     "metadata": {},
     "output_type": "execute_result"
    }
   ],
   "source": [
    "import pickle\n",
    "import numpy as np\n",
    "env_name = \"antmaze-umaze-v2\"\n",
    "dataset_path = f\"./data/{env_name}.pkl\"\n",
    "with open(dataset_path, \"rb\") as f:\n",
    "    trajectories = pickle.load(f)\n",
    "len(trajectories)\n",
    "print(trajectories[0].keys())\n",
    "trajectories[0]['observations'].shape"
   ]
  }
 ],
 "metadata": {
  "kernelspec": {
   "display_name": "env",
   "language": "python",
   "name": "python3"
  },
  "language_info": {
   "codemirror_mode": {
    "name": "ipython",
    "version": 3
   },
   "file_extension": ".py",
   "mimetype": "text/x-python",
   "name": "python",
   "nbconvert_exporter": "python",
   "pygments_lexer": "ipython3",
   "version": "3.8.18"
  }
 },
 "nbformat": 4,
 "nbformat_minor": 2
}
